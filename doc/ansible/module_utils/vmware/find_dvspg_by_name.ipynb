{
 "cells": [
  {
   "cell_type": "code",
   "execution_count": 1,
   "metadata": {},
   "outputs": [
    {
     "data": {
      "text/html": [
       "<style>\n",
       "  table { float: left; background: #d9d9d9; }\n",
       "</style>"
      ],
      "text/plain": [
       "<IPython.core.display.HTML object>"
      ]
     },
     "metadata": {},
     "output_type": "display_data"
    }
   ],
   "source": [
    "%%html\n",
    "<style>\n",
    "  table { float: left; background: #d9d9d9; }\n",
    "</style>"
   ]
  },
  {
   "cell_type": "markdown",
   "metadata": {},
   "source": [
    "# find_dvspg_by_nameメソッド\n",
    "\n",
    "```python\n",
    "def find_dvspg_by_name(dv_switch, portgroup_name)\n",
    "```\n",
    "\n",
    "vimtypeを指定してManaged Objectを検索するメソッドです。  "
   ]
  },
  {
   "cell_type": "markdown",
   "metadata": {},
   "source": [
    "## 引数\n",
    "\n",
    "| args           | type                     | param                             |\n",
    "| :-             | :----------------------- | :-------------------------------- |\n",
    "| dvswitch       | class                    | 分散スイッチのManaged Object      |\n",
    "| portgroup_name | str                      | 検索するポートグループ名          |"
   ]
  },
  {
   "cell_type": "markdown",
   "metadata": {},
   "source": [
    "## 戻り値\n",
    "\n",
    "| rtype             | return                                                                                      |\n",
    "| :---------------- | :------------------------------------------------------------------------------------------ |\n",
    "| class             | 分散ポートグループが存在した場合は分散ポートグループのManaged Objedt                        |\n",
    "| book              | 分散ポートグループが存在しない場合はNone                                                    |"
   ]
  },
  {
   "cell_type": "markdown",
   "metadata": {},
   "source": [
    "# find_dvspg_by_nameメソッド動作確認\n",
    "\n",
    "find_dvspg_by_nameメソッドの動作確認をしてみます。  \n",
    "以下の変数は環境に合わせて変更してください。\n",
    "\n",
    "* dvs_name\n",
    "* pg_name\n",
    "* hostname\n",
    "* username\n",
    "* password\n",
    "* validate_certs\n",
    "\n",
    "戻り値はfirstがTrueの場合とFalseで違いを確認してみます。"
   ]
  },
  {
   "cell_type": "code",
   "execution_count": null,
   "metadata": {},
   "outputs": [],
   "source": [
    "from ansible.module_utils.vmware import connect_to_api, find_dvs_by_name, find_dvspg_by_name\n",
    "from pyVmomi import vim\n",
    "\n",
    "dvs_name = 'dvs Name'\n",
    "pg_name = 'PG Name'\n",
    "\n",
    "class module():\n",
    "    def __init__(self):\n",
    "        self.params = {}\n",
    "\n",
    "m = module()\n",
    "m.params['hostname'] = 'vCenter IP or HostName'\n",
    "m.params['username'] = 'UserName'\n",
    "m.params['password'] = 'Password'\n",
    "m.params['validate_certs'] = False\n",
    "\n",
    "sc = connect_to_api(m)\n",
    "dvs_obj = find_dvs_by_name(sc, dvs_name)\n",
    "if(dvs):\n",
    "    pg_obj = find_dvspg_by_name(dvs_obj, pg_name)\n",
    "    if(pg_obj):\n",
    "        print(pg_obj.name)\n",
    "    else:\n",
    "        print(\"%s not found\" % pg_name)\n",
    "else:\n",
    "    print(\"%s not found\" % dvs_name)"
   ]
  },
  {
   "cell_type": "markdown",
   "metadata": {},
   "source": [
    "# find_dvspg_by_nameを使ったモジュール例\n",
    "\n",
    "find_dvspg_by_nameを使って実際にAnsibleモジュールを作ってみましょう。  \n",
    "以下のモジュールはVM名をしてフィルタリングされた結果を戻すだけの単純なものです。  \n",
    "モジュールは `/tmp/ansible_salf_made_module` に `get_pg_name.py` で保存されます。  \n",
    "`/tmp/ansible_salf_made_module` ディレクトリが無い場合は作成してください。  \n",
    "既にディレクトリがある場合は、以下を実行してモジュールファイルを作成します。"
   ]
  },
  {
   "cell_type": "code",
   "execution_count": null,
   "metadata": {},
   "outputs": [],
   "source": [
    "%%writefile /tmp/ansible_salf_made_module/get_pg_name.py\n",
    "#!/usr/bin/python\n",
    "\n",
    "try:\n",
    "    from pyVmomi import vim, vmodl\n",
    "    HAS_PYVMOMI = True\n",
    "except ImportError:\n",
    "    HAS_PYVMOMI = False\n",
    "\n",
    "from ansible.module_utils.vmware import find_dvs_by_name, find_dvspg_by_name, connect_to_api, vmware_argument_spec\n",
    "from ansible.module_utils.basic import AnsibleModule\n",
    "\n",
    "def main():\n",
    "    argument_spec = vmware_argument_spec()\n",
    "    argument_spec.update(dvs_name=dict(type='str', required=True),\n",
    "                         pg_name=dict(type='str', required=True))\n",
    "\n",
    "    module = AnsibleModule(argument_spec=argument_spec, supports_check_mode=True)\n",
    "\n",
    "    if not HAS_PYVMOMI:\n",
    "        module.fail_json(msg='pyvmomi python library not found')\n",
    "\n",
    "    dvs_name = module.params['dvs_name']\n",
    "    pg_name = module.params['pg_name']\n",
    "\n",
    "    result = dict(changed=False)\n",
    "    sc = connect_to_api(module)\n",
    "    dvs_obj = find_dvs_by_name(sc, dvs_name)\n",
    "    if(dvs_obj):\n",
    "        pg_obj = find_dvspg_by_name(dvs_obj, pg_name)\n",
    "        if(pg_obj):\n",
    "            result['pg_name'] = pg_obj.name\n",
    "            module.exit_json(**result)\n",
    "        else:\n",
    "            module.fail_json(msg=\"%s not found\" % pg_name)\n",
    "    else:\n",
    "        module.fail_json(msg=\"%s not found\" % dvs_name)\n",
    "\n",
    "if __name__ == \"__main__\":\n",
    "    main()"
   ]
  },
  {
   "cell_type": "markdown",
   "metadata": {},
   "source": [
    "# モジュールを動かす\n",
    "\n",
    "作ったモジュールを実際に動かしてみます。  \n",
    "以下のオプションは環境に合わせて変更してください。\n",
    "\n",
    "* hostname\n",
    "* username\n",
    "* password\n",
    "* validate_certs\n",
    "* name\n",
    "\n",
    "変更後、Kernelを `Ansible` に変更して以下を実行します。"
   ]
  },
  {
   "cell_type": "code",
   "execution_count": null,
   "metadata": {},
   "outputs": [],
   "source": [
    "#ansible.cfg\n",
    "[defaults]\n",
    "library = /tmp/ansible_salf_made_module"
   ]
  },
  {
   "cell_type": "code",
   "execution_count": null,
   "metadata": {},
   "outputs": [],
   "source": [
    "#inventory\n",
    "[all]\n",
    "localhost"
   ]
  },
  {
   "cell_type": "code",
   "execution_count": null,
   "metadata": {},
   "outputs": [],
   "source": [
    "#play\n",
    "name: salf-made module test\n",
    "hosts: localhost\n",
    "connection: local\n",
    "gather_facts: no"
   ]
  },
  {
   "cell_type": "code",
   "execution_count": null,
   "metadata": {},
   "outputs": [],
   "source": [
    "#task\n",
    "get_pg_name:\n",
    "  hostname: vCenter IP or HostName\n",
    "  username: UserName\n",
    "  password: Password\n",
    "  validate_certs: no\n",
    "  dvs_name: TEST\n",
    "  pg_name: DPortGroup"
   ]
  },
  {
   "cell_type": "markdown",
   "metadata": {},
   "source": [
    "`pg_name` に指定したポートグループ名が取得できていることを確認します。"
   ]
  }
 ],
 "metadata": {
  "gist": {
   "data": {
    "description": "Untitled1.ipynb",
    "public": false
   },
   "id": ""
  },
  "kernelspec": {
   "display_name": "Python 2",
   "language": "python",
   "name": "python2"
  },
  "language_info": {
   "codemirror_mode": {
    "name": "ipython",
    "version": 2
   },
   "file_extension": ".py",
   "mimetype": "text/x-python",
   "name": "python",
   "nbconvert_exporter": "python",
   "pygments_lexer": "ipython2",
   "version": "2.7.10"
  },
  "toc": {
   "base_numbering": 1,
   "nav_menu": {},
   "number_sections": true,
   "sideBar": true,
   "skip_h1_title": false,
   "title_cell": "Table of Contents",
   "title_sidebar": "Contents",
   "toc_cell": false,
   "toc_position": {
    "height": "calc(100% - 180px)",
    "left": "10px",
    "top": "150px",
    "width": "254px"
   },
   "toc_section_display": true,
   "toc_window_display": true
  }
 },
 "nbformat": 4,
 "nbformat_minor": 2
}
