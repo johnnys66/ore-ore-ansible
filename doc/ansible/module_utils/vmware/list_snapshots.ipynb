{
 "cells": [
  {
   "cell_type": "code",
   "execution_count": 1,
   "metadata": {},
   "outputs": [
    {
     "data": {
      "text/html": [
       "<style>\n",
       "  table { float: left; background: #d9d9d9; }\n",
       "</style>"
      ],
      "text/plain": [
       "<IPython.core.display.HTML object>"
      ]
     },
     "metadata": {},
     "output_type": "display_data"
    }
   ],
   "source": [
    "%%html\n",
    "<style>\n",
    "  table { float: left; background: #d9d9d9; }\n",
    "</style>"
   ]
  },
  {
   "cell_type": "markdown",
   "metadata": {},
   "source": [
    "# list_snapshotsメソッド\n",
    "\n",
    "```python\n",
    "def list_snapshots(vm):\n",
    "```\n",
    "\n",
    "VirtualMachineのManaged Objectを渡してスナップショット情報を取得するメソッドです。"
   ]
  },
  {
   "cell_type": "markdown",
   "metadata": {},
   "source": [
    "## 引数\n",
    "\n",
    "| args | type                     | param                                |\n",
    "| :-   | :----------------------- | :--------------------------------    |\n",
    "| vm   | class                    | VirtualMachineのManaged Objectを指定 |"
   ]
  },
  {
   "cell_type": "markdown",
   "metadata": {},
   "source": [
    "## 戻り値\n",
    "\n",
    "| rtype    | return                               |\n",
    "| :------- | :--------                            |\n",
    "| dict     | VirtualMachineのスナップショット一覧 |"
   ]
  },
  {
   "cell_type": "markdown",
   "metadata": {},
   "source": [
    "# list_snapshotsメソッド動作確認\n",
    "\n",
    "list_snapshotsメソッドの動作確認をしてみます。  \n",
    "以下の変数は環境に合わせて変更してください。\n",
    "\n",
    "* vm_name\n",
    "* hostname\n",
    "* username\n",
    "* password\n",
    "* validate_certs"
   ]
  },
  {
   "cell_type": "code",
   "execution_count": null,
   "metadata": {},
   "outputs": [],
   "source": [
    "from ansible.module_utils.vmware import connect_to_api, find_obj, list_snapshots\n",
    "from pyVmomi import vim\n",
    "\n",
    "vm_name = 'VM Name'\n",
    "\n",
    "class module():\n",
    "    def __init__(self):\n",
    "        self.params = {}\n",
    "\n",
    "m = module()\n",
    "m.params['hostname'] = 'vCenter IP or HostName'\n",
    "m.params['username'] = 'UserName'\n",
    "m.params['password'] = 'Password'\n",
    "m.params['validate_certs'] = False\n",
    "\n",
    "sc = connect_to_api(m)\n",
    "vm = find_obj(sc, [vim.VirtualMachine], vm_name)\n",
    "if(vm):\n",
    "    r = list_snapshots(vm)\n",
    "    print(\"snapshot list:\")\n",
    "    for s in r['snapshots']:\n",
    "        print(\"    - %s\" % s['name'])\n",
    "    \n",
    "    print(\"\")\n",
    "    print(\"current snapshot:\")\n",
    "    print(\"    - %s\" % r['current_snapshot']['name'])\n",
    "    \n",
    "    print(\"\")\n",
    "    for k in r.keys():\n",
    "        print(\"%s:\" % k)\n",
    "        print(\"    - %s\" % r[k])\n",
    "        print(\"\")"
   ]
  },
  {
   "cell_type": "markdown",
   "metadata": {},
   "source": [
    "# list_snapshotsメソッドを使ったモジュール例\n",
    "\n",
    "list_snapshotsを使って実際にAnsibleモジュールを作ってみましょう。  \n",
    "以下のモジュールはVM名を指定してスナップショット情報を取得するものです。  \n",
    "モジュールは `/tmp/ansible_salf_made_module` に `get_vm_snapshots.py` で保存されます。  \n",
    "`/tmp/ansible_salf_made_module` ディレクトリが無い場合は作成してください。  \n",
    "既にディレクトリがある場合は、以下を実行してモジュールファイルを作成します。"
   ]
  },
  {
   "cell_type": "code",
   "execution_count": null,
   "metadata": {},
   "outputs": [],
   "source": [
    "%%writefile /tmp/ansible_salf_made_module/get_vm_snapshots.py\n",
    "#!/usr/bin/python\n",
    "\n",
    "try:\n",
    "    from pyVmomi import vim, vmodl\n",
    "    HAS_PYVMOMI = True\n",
    "except ImportError:\n",
    "    HAS_PYVMOMI = False\n",
    "\n",
    "from ansible.module_utils.vmware import find_obj, list_snapshots, connect_to_api, vmware_argument_spec\n",
    "from ansible.module_utils.basic import AnsibleModule\n",
    "\n",
    "def main():\n",
    "    argument_spec = vmware_argument_spec()\n",
    "    argument_spec.update(name=dict(type='str', required=True))\n",
    "\n",
    "    module = AnsibleModule(argument_spec=argument_spec, supports_check_mode=True)\n",
    "\n",
    "    if not HAS_PYVMOMI:\n",
    "        module.fail_json(msg='pyvmomi python library not found')\n",
    "\n",
    "    vm_name = module.params['name']\n",
    "\n",
    "    result = dict(changed=False)\n",
    "    sc = connect_to_api(module)\n",
    "    vm = find_obj(sc, [vim.VirtualMachine], vm_name)\n",
    "    if(vm):\n",
    "        snapshots = list_snapshots(vm)\n",
    "        result.update(snapshots)\n",
    "        module.exit_json(**result)\n",
    "    else:\n",
    "        module.fail_json(msg=\"%s not found\" % vm_name)\n",
    "\n",
    "if __name__ == \"__main__\":\n",
    "    main()"
   ]
  },
  {
   "cell_type": "markdown",
   "metadata": {},
   "source": [
    "# モジュールを動かす\n",
    "\n",
    "作ったモジュールを実際に動かしてみます。  \n",
    "以下のオプションは環境に合わせて変更してください。\n",
    "\n",
    "* hostname\n",
    "* username\n",
    "* password\n",
    "* validate_certs\n",
    "* name\n",
    "\n",
    "変更後、Kernelを `Ansible` に変更して以下を実行します。"
   ]
  },
  {
   "cell_type": "code",
   "execution_count": null,
   "metadata": {},
   "outputs": [],
   "source": [
    "#ansible.cfg\n",
    "[defaults]\n",
    "library = /tmp/ansible_salf_made_module"
   ]
  },
  {
   "cell_type": "code",
   "execution_count": null,
   "metadata": {},
   "outputs": [],
   "source": [
    "#inventory\n",
    "[all]\n",
    "localhost"
   ]
  },
  {
   "cell_type": "code",
   "execution_count": null,
   "metadata": {},
   "outputs": [],
   "source": [
    "#play\n",
    "name: salf-made module test\n",
    "hosts: localhost\n",
    "connection: local\n",
    "gather_facts: no"
   ]
  },
  {
   "cell_type": "code",
   "execution_count": null,
   "metadata": {},
   "outputs": [],
   "source": [
    "#task\n",
    "get_vm_snapshots:\n",
    "  hostname: vCenter IP or HostName\n",
    "  username: UserName\n",
    "  password: Password\n",
    "  validate_certs: no\n",
    "  name: VM Name"
   ]
  },
  {
   "cell_type": "markdown",
   "metadata": {},
   "source": [
    "`name` に指定したVMのスナップショットリストが取得できていることを確認します。"
   ]
  }
 ],
 "metadata": {
  "gist": {
   "data": {
    "description": "Untitled1.ipynb",
    "public": false
   },
   "id": ""
  },
  "kernelspec": {
   "display_name": "Python 2",
   "language": "python",
   "name": "python2"
  },
  "language_info": {
   "codemirror_mode": {
    "name": "ipython",
    "version": 2
   },
   "file_extension": ".py",
   "mimetype": "text/x-python",
   "name": "python",
   "nbconvert_exporter": "python",
   "pygments_lexer": "ipython2",
   "version": "2.7.10"
  },
  "toc": {
   "base_numbering": 1,
   "nav_menu": {},
   "number_sections": true,
   "sideBar": true,
   "skip_h1_title": false,
   "title_cell": "Table of Contents",
   "title_sidebar": "Contents",
   "toc_cell": false,
   "toc_position": {
    "height": "calc(100% - 180px)",
    "left": "10px",
    "top": "150px",
    "width": "254px"
   },
   "toc_section_display": true,
   "toc_window_display": true
  }
 },
 "nbformat": 4,
 "nbformat_minor": 2
}
