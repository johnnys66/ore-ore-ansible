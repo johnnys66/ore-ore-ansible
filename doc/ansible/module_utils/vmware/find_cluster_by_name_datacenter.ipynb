{
 "cells": [
  {
   "cell_type": "code",
   "execution_count": 1,
   "metadata": {},
   "outputs": [
    {
     "data": {
      "text/html": [
       "<style>\n",
       "  table { float: left; background: #d9d9d9; }\n",
       "</style>"
      ],
      "text/plain": [
       "<IPython.core.display.HTML object>"
      ]
     },
     "metadata": {},
     "output_type": "display_data"
    }
   ],
   "source": [
    "%%html\n",
    "<style>\n",
    "  table { float: left; background: #d9d9d9; }\n",
    "</style>"
   ]
  },
  {
   "cell_type": "markdown",
   "metadata": {},
   "source": [
    "# find_cluster_by_name_datacenterメソッド\n",
    "\n",
    "```python\n",
    "def find_cluster_by_name_datacenter(datacenter, cluster_name):\n",
    "```\n",
    "\n",
    "datacenterのManaged Objectからcluster_nameで指定したManaged Objectを検索するメソッドです。  "
   ]
  },
  {
   "cell_type": "markdown",
   "metadata": {},
   "source": [
    "## 引数\n",
    "\n",
    "| args         | type                     | param                             |\n",
    "| :-           | :----------------------- | :-------------------------------- |\n",
    "| datacenter   | class                    | データセンターのManaged Object    |\n",
    "| cluster_name | str                      | 検索するクラスター名              |"
   ]
  },
  {
   "cell_type": "markdown",
   "metadata": {},
   "source": [
    "## 戻り値\n",
    "\n",
    "| rtype             | return                                                                                      |\n",
    "| :---------------- | :------------------------------------------------------------------------------------------ |\n",
    "| class             | firstがTrueの時、nameにマッチしたManaged Objectを返す。もし、マッチしない場合はNoneを返す   |\n",
    "| list              | firstがFalseの時listで結果を返す                                                            |"
   ]
  },
  {
   "cell_type": "markdown",
   "metadata": {},
   "source": [
    "# find_cluster_by_name_datacenterメソッド動作確認\n",
    "\n",
    "find_cluster_by_name_datacenterメソッドの動作確認をしてみます。  \n",
    "以下の変数は環境に合わせて変更してください。\n",
    "\n",
    "* dc_name\n",
    "* cluster_name\n",
    "* hostname\n",
    "* username\n",
    "* password\n",
    "* validate_certs"
   ]
  },
  {
   "cell_type": "code",
   "execution_count": null,
   "metadata": {},
   "outputs": [],
   "source": [
    "from ansible.module_utils.vmware import connect_to_api, find_datacenter_by_name, find_cluster_by_name_datacenter\n",
    "from pyVmomi import vim\n",
    "\n",
    "dc_name = 'Datacenter Name'\n",
    "cluster_name = 'Cluster Name'\n",
    "\n",
    "class module():\n",
    "    def __init__(self):\n",
    "        self.params = {}\n",
    "\n",
    "m = module()\n",
    "m.params['hostname'] = 'vCenter IP or HostName'\n",
    "m.params['username'] = 'UserName'\n",
    "m.params['password'] = 'Password'\n",
    "m.params['validate_certs'] = False\n",
    "\n",
    "sc = connect_to_api(m)\n",
    "dc_obj = find_datacenter_by_name(sc, dc_name)\n",
    "if(dc_obj):\n",
    "    cluster_obj = find_cluster_by_name_datacenter(dc_obj, cluster_name)\n",
    "    if(cluster_obj):\n",
    "        print(cluster_obj.name)\n",
    "    else:\n",
    "        print(\"%s not found\" % cluster_name)\n",
    "else:\n",
    "    print(\"%s not found\" % dc_name)"
   ]
  },
  {
   "cell_type": "markdown",
   "metadata": {},
   "source": [
    "# find_cluster_by_name_datacenterメソッドを使ったモジュール例\n",
    "\n",
    "find_cluster_by_name_datacenterを使って実際にAnsibleモジュールを作ってみましょう。  \n",
    "以下のモジュールはクラスタ名を指定してフィルタリングされた結果を戻すだけの単純なものです。  \n",
    "モジュールは `/tmp/ansible_salf_made_module` に `get_cluster_name.py` で保存されます。  \n",
    "`/tmp/ansible_salf_made_module` ディレクトリが無い場合は作成してください。  \n",
    "既にディレクトリがある場合は、以下を実行してモジュールファイルを作成します。"
   ]
  },
  {
   "cell_type": "code",
   "execution_count": null,
   "metadata": {},
   "outputs": [],
   "source": [
    "%%writefile /tmp/ansible_salf_made_module/get_cluster_name.py\n",
    "#!/usr/bin/python\n",
    "\n",
    "try:\n",
    "    from pyVmomi import vim, vmodl\n",
    "    HAS_PYVMOMI = True\n",
    "except ImportError:\n",
    "    HAS_PYVMOMI = False\n",
    "\n",
    "from ansible.module_utils.vmware import find_datacenter_by_name, find_cluster_by_name_datacenter, connect_to_api, vmware_argument_spec\n",
    "from ansible.module_utils.basic import AnsibleModule\n",
    "\n",
    "def main():\n",
    "    argument_spec = vmware_argument_spec()\n",
    "    argument_spec.update(dc_name=dict(type='str', required=True),\n",
    "                        cluster_name=dict(type='str', required=True))\n",
    "\n",
    "    module = AnsibleModule(argument_spec=argument_spec, supports_check_mode=True)\n",
    "\n",
    "    if not HAS_PYVMOMI:\n",
    "        module.fail_json(msg='pyvmomi python library not found')\n",
    "\n",
    "    dc_name = module.params['dc_name']\n",
    "    cluster_name = module.params['cluster_name']\n",
    "\n",
    "    result = dict(changed=False)\n",
    "    sc = connect_to_api(module)\n",
    "    dc_obj = find_datacenter_by_name(sc, dc_name)\n",
    "    if(dc_obj):\n",
    "        cluster_obj = find_cluster_by_name_datacenter(dc_obj, cluster_name)\n",
    "        if(cluster_obj):\n",
    "            result['cluster'] = cluster_obj.name\n",
    "            module.exit_json(**result)\n",
    "        else:\n",
    "            module.fail_json(msg=\"%s not found\" % cluster_name)\n",
    "    else:\n",
    "        module.fail_json(msg=\"%s not found\" % dc_name)\n",
    "\n",
    "if __name__ == \"__main__\":\n",
    "    main()"
   ]
  },
  {
   "cell_type": "markdown",
   "metadata": {},
   "source": [
    "# モジュールを動かす\n",
    "\n",
    "作ったモジュールを実際に動かしてみます。  \n",
    "以下のオプションは環境に合わせて変更してください。\n",
    "\n",
    "* hostname\n",
    "* username\n",
    "* password\n",
    "* validate_certs\n",
    "* dc_name\n",
    "* cluster_name\n",
    "\n",
    "変更後、Kernelを `Ansible` に変更して以下を実行します。"
   ]
  },
  {
   "cell_type": "code",
   "execution_count": null,
   "metadata": {},
   "outputs": [],
   "source": [
    "#ansible.cfg\n",
    "[defaults]\n",
    "library = /tmp/ansible_salf_made_module"
   ]
  },
  {
   "cell_type": "code",
   "execution_count": null,
   "metadata": {},
   "outputs": [],
   "source": [
    "#inventory\n",
    "[all]\n",
    "localhost"
   ]
  },
  {
   "cell_type": "code",
   "execution_count": null,
   "metadata": {},
   "outputs": [],
   "source": [
    "#play\n",
    "name: salf-made module test\n",
    "hosts: localhost\n",
    "connection: local\n",
    "gather_facts: no"
   ]
  },
  {
   "cell_type": "code",
   "execution_count": null,
   "metadata": {},
   "outputs": [],
   "source": [
    "#task\n",
    "get_cluster_name:\n",
    "  hostname: vCenter IP or HostName\n",
    "  username: UserName\n",
    "  password: Password\n",
    "  validate_certs: no\n",
    "  dc_name: Datacenter Name\n",
    "  cluster_name: Cluster Name"
   ]
  },
  {
   "cell_type": "markdown",
   "metadata": {},
   "source": [
    "`name` に指定したVM名が取得できていることを確認します。"
   ]
  }
 ],
 "metadata": {
  "gist": {
   "data": {
    "description": "Untitled1.ipynb",
    "public": false
   },
   "id": ""
  },
  "kernelspec": {
   "display_name": "Python 2",
   "language": "python",
   "name": "python2"
  },
  "language_info": {
   "codemirror_mode": {
    "name": "ipython",
    "version": 2
   },
   "file_extension": ".py",
   "mimetype": "text/x-python",
   "name": "python",
   "nbconvert_exporter": "python",
   "pygments_lexer": "ipython2",
   "version": "2.7.10"
  },
  "toc": {
   "base_numbering": 1,
   "nav_menu": {},
   "number_sections": true,
   "sideBar": true,
   "skip_h1_title": false,
   "title_cell": "Table of Contents",
   "title_sidebar": "Contents",
   "toc_cell": false,
   "toc_position": {
    "height": "calc(100% - 180px)",
    "left": "10px",
    "top": "150px",
    "width": "254px"
   },
   "toc_section_display": true,
   "toc_window_display": true
  }
 },
 "nbformat": 4,
 "nbformat_minor": 2
}
